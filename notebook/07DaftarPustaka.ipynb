{
 "cells": [
  {
   "cell_type": "markdown",
   "metadata": {},
   "source": [
    "# Daftar Pustaka"
   ]
  },
  {
   "cell_type": "markdown",
   "metadata": {},
   "source": [
    "* Abadi, Martin dkk., 2016. Tensorflow: A system for large-scale machine learning. di 12th USENIX Symposium on Operating Systems Design and Implementation (OSDI 16). hal. 265–283.\n",
    "* Araghinejad, S. 2014. *Data-Driven Modeling: Using MATLAB<sup>®</sup> in Water Resources and Environmental Engineering*. Springer.\n",
    "* Burkov, A. 2019. *The Hundred-Page Machine Learning Book*.\n",
    "* Chollet, F., dkk., 2015. Keras. Tersedia di: https://github.com/fchollet/keras.\n",
    "* Elman, J.L., 1990. Finding structure in time, *Cognitive Science*, Vol. 14, pp. 179-211, 1990.\n",
    "* Géron, A. 2019. *Hands-on machine learning with Scikit-Learn, Keras, and TensorFlow: Concepts, tools, and techniques to build intelligent systems*.  O’Reilly Media, Inc.\n",
    "* Goodfellow, I., dkk. 2016. *Deep Learning*. MIT Press.\n",
    "* Goodfellow, I., dkk. 2014. Generative Adversarial Networks. Advances in Neural Information Processing Systems. 3. \n",
    "* Hunter, J. D. 2007. Matplotlib: A 2D graphics environment. Computing in Science &amp; Engineering, 9(3), 90–95.\n",
    "* Joshi, P. 2017. *Artificial Intelligence with Python*. Packt.\n",
    "* Krizhevsky, A., dkk. 2012. ImageNet Classification with Deep Convolutional Neural Networks. Neural Information Processing Systems. 25. 10.1145/3065386. \n",
    "* Maksimova, E., dkk. 2017. NeuroLab. Tersedia di: https://github.com/maksimovVva/neurolab.\n",
    "* Mcculoch, W. S., dan Pitts, W. 1943. A logical calculus of the ideas immanent in nervous activity. *Bull. math. Biophysics*, 5, hal. 115-133.\n",
    "* Oliphant, T.E., 2006. A guide to NumPy, Trelgol Publishing USA.\n",
    "* Paszke, A. dkk., 2019. PyTorch: An Imperative Style, High-Performance Deep Learning Library. In H. Wallach dkk., eds. Advances in Neural Information Processing Systems 32. Curran Associates, Inc., hal. 8024–8035. Tersedia di: http://papers.neurips.cc/paper/9015-pytorch-an-imperative-style-high-performance-deep-learning-library.pdf.\n",
    "* Ruder, S. 2016. An overview of gradient descent optimization algorithms. *arXiv:1609.04747*. \n",
    "\n"
   ]
  }
 ],
 "metadata": {
  "kernelspec": {
   "display_name": "Python 3",
   "language": "python",
   "name": "python3"
  },
  "language_info": {
   "codemirror_mode": {
    "name": "ipython",
    "version": 3
   },
   "file_extension": ".py",
   "mimetype": "text/x-python",
   "name": "python",
   "nbconvert_exporter": "python",
   "pygments_lexer": "ipython3",
   "version": "3.7.6"
  }
 },
 "nbformat": 4,
 "nbformat_minor": 4
}
